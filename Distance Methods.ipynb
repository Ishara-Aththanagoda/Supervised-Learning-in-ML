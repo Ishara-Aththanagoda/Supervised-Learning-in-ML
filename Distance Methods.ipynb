{
 "cells": [
  {
   "cell_type": "code",
   "execution_count": 57,
   "id": "01b112d1-54ef-494e-8e1a-17638d81440c",
   "metadata": {},
   "outputs": [],
   "source": [
    "A = (5,3)\n",
    "B = (2,4)"
   ]
  },
  {
   "cell_type": "code",
   "execution_count": 59,
   "id": "0bb77853-e06a-488e-940a-0203743ef79b",
   "metadata": {},
   "outputs": [],
   "source": [
    "from scipy.spatial import distance"
   ]
  },
  {
   "cell_type": "code",
   "execution_count": 61,
   "id": "b9483aec-864c-452f-b4dc-f2dd76e44d6d",
   "metadata": {},
   "outputs": [],
   "source": [
    "#Euclidean Distance"
   ]
  },
  {
   "cell_type": "code",
   "execution_count": 63,
   "id": "813ce327-fbe4-4868-b34c-8b4dded65b64",
   "metadata": {},
   "outputs": [
    {
     "data": {
      "text/plain": [
       "3.1622776601683795"
      ]
     },
     "execution_count": 63,
     "metadata": {},
     "output_type": "execute_result"
    }
   ],
   "source": [
    "d = distance.euclidean(A,B)\n",
    "d"
   ]
  },
  {
   "cell_type": "code",
   "execution_count": null,
   "id": "0396b5a4-ef1a-4817-b111-e4f26552745f",
   "metadata": {},
   "outputs": [],
   "source": []
  },
  {
   "cell_type": "code",
   "execution_count": 66,
   "id": "64f334ff-e444-4b57-b100-9677a82dcff0",
   "metadata": {},
   "outputs": [],
   "source": [
    "#Manhattan"
   ]
  },
  {
   "cell_type": "code",
   "execution_count": 70,
   "id": "23b56044-0717-46dc-b85e-d8505c58873d",
   "metadata": {},
   "outputs": [
    {
     "data": {
      "text/plain": [
       "4"
      ]
     },
     "execution_count": 70,
     "metadata": {},
     "output_type": "execute_result"
    }
   ],
   "source": [
    "d = distance.cityblock(A,B)\n",
    "d"
   ]
  },
  {
   "cell_type": "code",
   "execution_count": null,
   "id": "1ad5b0f8-b7b1-4a18-a325-3e63cf68e4b6",
   "metadata": {},
   "outputs": [],
   "source": []
  },
  {
   "cell_type": "code",
   "execution_count": 73,
   "id": "a3920b48-f689-46cd-a9a1-e170ec4f3af1",
   "metadata": {},
   "outputs": [],
   "source": [
    "#cosine"
   ]
  },
  {
   "cell_type": "code",
   "execution_count": 75,
   "id": "2b10c069-402a-4909-9eae-cb0232bd8915",
   "metadata": {},
   "outputs": [
    {
     "data": {
      "text/plain": [
       "0.15633851226789253"
      ]
     },
     "execution_count": 75,
     "metadata": {},
     "output_type": "execute_result"
    }
   ],
   "source": [
    "d = distance.cosine(A,B)\n",
    "d"
   ]
  },
  {
   "cell_type": "code",
   "execution_count": null,
   "id": "1bd5f36e-d0e3-4b55-837c-94d099e4cfc2",
   "metadata": {},
   "outputs": [],
   "source": [
    "  "
   ]
  }
 ],
 "metadata": {
  "kernelspec": {
   "display_name": "Python 3 (ipykernel)",
   "language": "python",
   "name": "python3"
  },
  "language_info": {
   "codemirror_mode": {
    "name": "ipython",
    "version": 3
   },
   "file_extension": ".py",
   "mimetype": "text/x-python",
   "name": "python",
   "nbconvert_exporter": "python",
   "pygments_lexer": "ipython3",
   "version": "3.12.4"
  }
 },
 "nbformat": 4,
 "nbformat_minor": 5
}
