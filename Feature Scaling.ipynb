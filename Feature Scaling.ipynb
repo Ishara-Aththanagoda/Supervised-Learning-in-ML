{
 "cells": [
  {
   "cell_type": "code",
   "execution_count": 1,
   "id": "b1b9325f-f5b4-4c18-b29c-c58bc84bb73f",
   "metadata": {},
   "outputs": [],
   "source": [
    "import numpy as np\n",
    "data= np.array([[26,50000],\n",
    "                [29,70000],\n",
    "                [34,55000],\n",
    "                [31,41000]])"
   ]
  },
  {
   "cell_type": "code",
   "execution_count": 3,
   "id": "b5ef4ab0-2997-49d2-95a7-2266973c58c4",
   "metadata": {},
   "outputs": [
    {
     "data": {
      "text/plain": [
       "array([[   26, 50000],\n",
       "       [   29, 70000],\n",
       "       [   34, 55000],\n",
       "       [   31, 41000]])"
      ]
     },
     "execution_count": 3,
     "metadata": {},
     "output_type": "execute_result"
    }
   ],
   "source": [
    "data"
   ]
  },
  {
   "cell_type": "code",
   "execution_count": 5,
   "id": "dc8ba8d3-23a7-462e-8392-374ff45abe99",
   "metadata": {},
   "outputs": [
    {
     "data": {
      "text/plain": [
       "array([[0.        , 0.31034483],\n",
       "       [0.375     , 1.        ],\n",
       "       [1.        , 0.48275862],\n",
       "       [0.625     , 0.        ]])"
      ]
     },
     "execution_count": 5,
     "metadata": {},
     "output_type": "execute_result"
    }
   ],
   "source": [
    "from sklearn.preprocessing import MinMaxScaler\n",
    "scaler= MinMaxScaler()\n",
    "scaled_data= scaler.fit_transform(data)\n",
    "scaled_data"
   ]
  },
  {
   "cell_type": "code",
   "execution_count": 7,
   "id": "c2a70fb8-7cde-4a97-83aa-920f98196f8a",
   "metadata": {},
   "outputs": [
    {
     "data": {
      "text/plain": [
       "array([[-1.37198868, -0.3805212 ],\n",
       "       [-0.34299717,  1.52208478],\n",
       "       [ 1.37198868,  0.0951303 ],\n",
       "       [ 0.34299717, -1.23669388]])"
      ]
     },
     "execution_count": 7,
     "metadata": {},
     "output_type": "execute_result"
    }
   ],
   "source": [
    "from sklearn.preprocessing import StandardScaler\n",
    "scaler= StandardScaler()\n",
    "scaled_data= scaler.fit_transform(data)\n",
    "scaled_data"
   ]
  },
  {
   "cell_type": "code",
   "execution_count": null,
   "id": "a68c8c7a-a2a6-4522-bae3-78bb1d4c35c3",
   "metadata": {},
   "outputs": [],
   "source": []
  }
 ],
 "metadata": {
  "kernelspec": {
   "display_name": "Python 3 (ipykernel)",
   "language": "python",
   "name": "python3"
  },
  "language_info": {
   "codemirror_mode": {
    "name": "ipython",
    "version": 3
   },
   "file_extension": ".py",
   "mimetype": "text/x-python",
   "name": "python",
   "nbconvert_exporter": "python",
   "pygments_lexer": "ipython3",
   "version": "3.12.4"
  }
 },
 "nbformat": 4,
 "nbformat_minor": 5
}
